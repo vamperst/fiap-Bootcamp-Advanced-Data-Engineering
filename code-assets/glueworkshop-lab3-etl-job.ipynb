{
	"cells": [
		{
			"cell_type": "markdown",
			"metadata": {
				"deletable": false,
				"editable": false,
				"trusted": true
			},
			"source": [
				"\n",
				"# Glue Studio Notebook\n",
				"You are now running a **Glue Studio** notebook; before you can start using your notebook you *must* start an interactive session.\n",
				"\n",
				"## Available Magics\n",
				"|          Magic              |   Type       |                                                                        Description                                                                        |\n",
				"|-----------------------------|--------------|-----------------------------------------------------------------------------------------------------------------------------------------------------------|\n",
				"| %%configure                 |  Dictionary  |  A json-formatted dictionary consisting of all configuration parameters for a session. Each parameter can be specified here or through individual magics. |\n",
				"| %profile                    |  String      |  Specify a profile in your aws configuration to use as the credentials provider.                                                                          |\n",
				"| %iam_role                   |  String      |  Specify an IAM role to execute your session with.                                                                                                        |\n",
				"| %region                     |  String      |  Specify the AWS region in which to initialize a session                                                                                                  |\n",
				"| %session_id                 |  String      |  Returns the session ID for the running session.                                                                                                          |\n",
				"| %connections                |  List        |  Specify a comma separated list of connections to use in the session.                                                                                     |\n",
				"| %additional_python_modules  |  List        |  Comma separated list of pip packages, s3 paths or private pip arguments.                                                                                 |\n",
				"| %extra_py_files             |  List        |  Comma separated list of additional Python files from S3.                                                                                                 |\n",
				"| %extra_jars                 |  List        |  Comma separated list of additional Jars to include in the cluster.                                                                                       |\n",
				"| %number_of_workers          |  Integer     |  The number of workers of a defined worker_type that are allocated when a job runs. worker_type must be set too.                                          |\n",
				"| %worker_type                |  String      |  Standard, G.1X, *or* G.2X. number_of_workers must be set too. Default is G.1X                                                                            |\n",
				"| %glue_version               |  String      |  The version of Glue to be used by this session. Currently, the only valid options are 2.0 and 3.0 (eg: %glue_version 2.0)                                |\n",
				"| %security_config            |  String      |  Define a security configuration to be used with this session.                                                                                            |\n",
				"| %sql                        |  String      |  Run SQL code. All lines after the initial %%sql magic will be passed as part of the SQL code.                                                            |\n",
				"| %streaming                  |  String      |  Changes the session type to Glue Streaming.                                                                                                              |\n",
				"| %etl                        |  String      |   Changes the session type to Glue ETL.                                                                                                                   |\n",
				"| %status                     |              |  Returns the status of the current Glue session including its duration, configuration and executing user / role.                                          |\n",
				"| %stop_session               |              |  Stops the current session.                                                                                                                               |\n",
				"| %list_sessions              |              |  Lists all currently running sessions by name and ID.                                                                                                     |\n",
				"| %spark_conf                 |  String      |  Specify custom spark configurations for your session. E.g. %spark_conf spark.serializer=org.apache.spark.serializer.KryoSerializer                       |"
			]
		},
		{
			"cell_type": "code",
			"execution_count": null,
			"metadata": {
				"trusted": true,
				"vscode": {
					"languageId": "python_glue_session"
				}
			},
			"outputs": [],
			"source": [
				"# Adding required libraries and extra jars to the job -   # <------- PLEASE REPLACE ${BUCKET_NAME} BELOW!!!\n",
				"\n",
				"%extra_py_files s3://${BUCKET_NAME}/library/pycountry_convert.zip\n",
				"%extra_jars s3://crawler-public/json/serde/json-serde.jar\n",
				"\n",
				"# Adding required properties to the job - # <------- PLEASE REPLACE ${BUCKET_NAME} BELOW!!!\n",
				"\n",
				"%%configure \n",
				"{\n",
				"  \"--enable-spark-ui\": \"true\",\n",
				"  \"--spark-event-logs-path\": \"s3://${BUCKET_NAME}/output/lab3/sparklog/\",\n",
				"  \"max_retries\": \"0\"         \n",
				"}"
			]
		},
		{
			"cell_type": "code",
			"execution_count": null,
			"metadata": {
				"editable": true,
				"trusted": true,
				"vscode": {
					"languageId": "python_glue_session"
				}
			},
			"outputs": [],
			"source": [
				"#Importing all the basic Glue, Spark libraries \n",
				"\n",
				"import sys\n",
				"from awsglue.transforms import *\n",
				"from awsglue.utils import getResolvedOptions\n",
				"from pyspark.context import SparkContext\n",
				"from awsglue.context import GlueContext\n",
				"from awsglue.dynamicframe import DynamicFrame\n",
				"from awsglue.job import Job\n",
				"\n",
				"# Important further required libraries\n",
				"\n",
				"from pyspark.sql.functions import udf, col\n",
				"from pyspark.sql.types import IntegerType, StringType\n",
				"from pyspark import SparkContext\n",
				"from pyspark.sql import SQLContext\n",
				"from datetime import datetime\n",
				"\n",
				"# Starting Spark/Glue Context\n",
				"\n",
				"sc = SparkContext.getOrCreate()\n",
				"glueContext = GlueContext(sc)\n",
				"spark = glueContext.spark_session\n",
				"job = Job(glueContext)"
			]
		},
		{
			"cell_type": "code",
			"execution_count": null,
			"metadata": {
				"trusted": true,
				"vscode": {
					"languageId": "python_glue_session"
				}
			},
			"outputs": [],
			"source": [
				"# Important pycountry_convert function from the external python library (pycountry_convert.zip)\n",
				"\n",
				"from pycountry_convert import (\n",
				"    convert_country_alpha2_to_country_name,\n",
				"    convert_country_alpha2_to_continent,\n",
				"    convert_country_name_to_country_alpha2,\n",
				"    convert_country_alpha3_to_country_alpha2,\n",
				")\n",
				"\n",
				"\n",
				"# Defining the function code\n",
				"def get_country_code2(country_name):\n",
				"    country_code2 = 'US'\n",
				"    try:\n",
				"        country_code2 = convert_country_name_to_country_alpha2(country_name)\n",
				"    except KeyError:\n",
				"        country_code2 = ''\n",
				"    return country_code2\n",
				"\n",
				"# leveraging the Country Code UDF\n",
				"\n",
				"udf_get_country_code2 = udf(lambda z: get_country_code2(z), StringType())\n",
				"\n",
				"\n",
				"# Reading the dataset into a DataFrame\n",
				"s3_bucket = \"s3://${BUCKET_NAME}/\"                              # <------- PLEASE REPLACE ONLY THE ${BUCKET_NAME} HERE (Keep the \"s3://\" and the final \"/\" part)!!!\n",
				"job_time_string = datetime.now().strftime(\"%Y%m%d%H%M%S\")\n",
				"\n",
				"df = spark.read.load(s3_bucket + \"input/lab2/sample.csv\", \n",
				"                     format=\"csv\", \n",
				"                     sep=\",\", \n",
				"                     inferSchema=\"true\", \n",
				"                     header=\"true\")\n",
				"\n",
				"# Performing a transformation that adds a new Country Code column to the dataframe based on the Country Code UDF output\n",
				"\n",
				"new_df = df.withColumn('country_code_2', udf_get_country_code2(col(\"country\")))"
			]
		},
		{
			"cell_type": "code",
			"execution_count": null,
			"metadata": {
				"trusted": true,
				"vscode": {
					"languageId": "python_glue_session"
				}
			},
			"outputs": [],
			"source": [
				"# Sinking the data into another S3 bucket path\n",
				"\n",
				"new_df.write.csv(s3_bucket + \"/output/lab3/notebook/\" + job_time_string + \"/\")"
			]
		}
	],
	"metadata": {
		"kernelspec": {
			"display_name": "Glue PySpark",
			"language": "python",
			"name": "glue_pyspark"
		},
		"language_info": {
			"codemirror_mode": {
				"name": "python",
				"version": 3
			},
			"file_extension": ".py",
			"mimetype": "text/x-python",
			"name": "Python_Glue_Session",
			"pygments_lexer": "python3"
		}
	},
	"nbformat": 4,
	"nbformat_minor": 4
}
