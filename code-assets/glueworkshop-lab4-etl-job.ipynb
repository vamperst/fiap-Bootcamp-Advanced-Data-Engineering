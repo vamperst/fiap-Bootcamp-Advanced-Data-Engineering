{
	"cells": [
		{
			"cell_type": "markdown",
			"metadata": {
				"deletable": false,
				"editable": false,
				"trusted": true
			},
			"source": [
				"\n",
				"# Glue Studio Notebook\n",
				"You are now running a **Glue Studio** notebook; before you can start using your notebook you *must* start an interactive session.\n",
				"\n",
				"## Available Magics\n",
				"|          Magic              |   Type       |                                                                        Description                                                                        |\n",
				"|-----------------------------|--------------|-----------------------------------------------------------------------------------------------------------------------------------------------------------|\n",
				"| %%configure                 |  Dictionary  |  A json-formatted dictionary consisting of all configuration parameters for a session. Each parameter can be specified here or through individual magics. |\n",
				"| %profile                    |  String      |  Specify a profile in your aws configuration to use as the credentials provider.                                                                          |\n",
				"| %iam_role                   |  String      |  Specify an IAM role to execute your session with.                                                                                                        |\n",
				"| %region                     |  String      |  Specify the AWS region in which to initialize a session.                                                                                                 |\n",
				"| %session_id                 |  String      |  Returns the session ID for the running session.                                                                                                          |\n",
				"| %connections                |  List        |  Specify a comma separated list of connections to use in the session.                                                                                     |\n",
				"| %additional_python_modules  |  List        |  Comma separated list of pip packages, s3 paths or private pip arguments.                                                                                 |\n",
				"| %extra_py_files             |  List        |  Comma separated list of additional Python files from S3.                                                                                                 |\n",
				"| %extra_jars                 |  List        |  Comma separated list of additional Jars to include in the cluster.                                                                                       |\n",
				"| %number_of_workers          |  Integer     |  The number of workers of a defined worker_type that are allocated when a job runs. worker_type must be set too.                                          |\n",
				"| %glue_version               |  String      |  The version of Glue to be used by this session. Currently, the only valid options are 2.0 and 3.0 (eg: %glue_version 2.0).                               |\n",
				"| %security_config            |  String      |  Define a security configuration to be used with this session.                                                                                            |\n",
				"| %sql                        |  String      |  Run SQL code. All lines after the initial %%sql magic will be passed as part of the SQL code.                                                            |\n",
				"| %streaming                  |  String      |  Changes the session type to Glue Streaming.                                                                                                              |\n",
				"| %etl                        |  String      |  Changes the session type to Glue ETL.                                                                                                                    |\n",
				"| %status                     |              |  Returns the status of the current Glue session including its duration, configuration and executing user / role.                                          |\n",
				"| %stop_session               |              |  Stops the current session.                                                                                                                               |\n",
				"| %list_sessions              |              |  Lists all currently running sessions by name and ID.                                                                                                     |\n",
				"| %worker_type                |  String      |  Standard, G.1X, *or* G.2X. number_of_workers must be set too. Default is G.1X.                                                                           |\n",
				"| %spark_conf                 |  String      |  Specify custom spark configurations for your session. E.g. %spark_conf spark.serializer=org.apache.spark.serializer.KryoSerializer.                      |"
			]
		},
		{
			"cell_type": "markdown",
			"metadata": {},
			"source": [
				"Our goal is to use the notebook to develop and test a batch_function named processBatch. This processBatch function will process a given test dataframe with the same schema as the streaming data inside our development environment.\n",
				"\n",
				"Replace `${BUCKET_NAME}` with your bucket name to set up the environment and variables for the test. And run the code block below."
			]
		},
		{
			"cell_type": "code",
			"execution_count": null,
			"metadata": {
				"editable": true,
				"trusted": true,
				"vscode": {
					"languageId": "python_glue_session"
				}
			},
			"outputs": [],
			"source": [
				"import sys\n",
				"from awsglue.transforms import *\n",
				"from awsglue.utils import getResolvedOptions\n",
				"from pyspark.context import SparkContext\n",
				"from awsglue.context import GlueContext\n",
				"from awsglue.job import Job\n",
				"from awsglue.dynamicframe import DynamicFrame\n",
				"from pyspark.sql.functions import udf, col\n",
				"from pyspark.sql.types import IntegerType, StringType\n",
				"from pyspark import SparkContext\n",
				"from pyspark.sql import SQLContext\n",
				"from datetime import datetime\n",
				"\n",
				"glueContext = GlueContext(SparkContext.getOrCreate())\n",
				"s3_bucket = \"s3://${BUCKET_NAME}\"\n",
				"output_path = s3_bucket + \"/output/lab4/notebook/\"\n",
				"job_time_string = datetime.now().strftime(\"%Y%m%d%H%M%S\")\n",
				"s3_target = output_path + job_time_string\n"
			]
		},
		{
			"cell_type": "code",
			"execution_count": null,
			"metadata": {
				"vscode": {
					"languageId": "python_glue_session"
				}
			},
			"outputs": [],
			"source": []
		},
		{
			"cell_type": "markdown",
			"metadata": {},
			"source": [
				"Load the lookup dataframe from the S3 folder."
			]
		},
		{
			"cell_type": "code",
			"execution_count": null,
			"metadata": {
				"trusted": true,
				"vscode": {
					"languageId": "python_glue_session"
				}
			},
			"outputs": [],
			"source": [
				"country_lookup_frame = glueContext.create_dynamic_frame.from_options(\n",
				"                            format_options = {\"withHeader\":True, \"separator\":\",\", \"quoteChar\":\"\\\"\"},\n",
				"                            connection_type = \"s3\", \n",
				"                            format = \"csv\", \n",
				"                            connection_options = {\"paths\": [s3_bucket + \"/input/lab4/country_lookup/\"], \"recurse\":True}, \n",
				"                            transformation_ctx = \"country_lookup_frame\")\n"
			]
		},
		{
			"cell_type": "markdown",
			"metadata": {},
			"source": [
				"Here is the batch function body where we do conversion and look-up transformation on the incoming data."
			]
		},
		{
			"cell_type": "code",
			"execution_count": null,
			"metadata": {
				"trusted": true,
				"vscode": {
					"languageId": "python_glue_session"
				}
			},
			"outputs": [],
			"source": [
				"def processBatch(data_frame, batchId):\n",
				"    if (data_frame.count() > 0):\n",
				"        dynamic_frame = DynamicFrame.fromDF(data_frame, glueContext, \"from_data_frame\")\n",
				"        apply_mapping = ApplyMapping.apply(frame=dynamic_frame, mappings=[\n",
				"            (\"uuid\", \"string\", \"uuid\", \"string\"),\n",
				"            (\"country\", \"string\", \"country\", \"string\"),\n",
				"            (\"itemtype\", \"string\", \"itemtype\", \"string\"),\n",
				"            (\"saleschannel\", \"string\", \"saleschannel\", \"string\"),\n",
				"            (\"orderpriority\", \"string\", \"orderpriority\", \"string\"),\n",
				"            (\"orderdate\", \"string\", \"orderdate\", \"string\"),\n",
				"            (\"region\", \"string\", \"region\", \"string\"),\n",
				"            (\"shipdate\", \"string\", \"shipdate\", \"string\"),\n",
				"            (\"unitssold\", \"string\", \"unitssold\", \"string\"),\n",
				"            (\"unitprice\", \"string\", \"unitprice\", \"string\"),\n",
				"            (\"unitcost\", \"string\", \"unitcost\", \"string\"),\n",
				"            (\"totalrevenue\", \"string\", \"totalrevenue\", \"string\"),\n",
				"            (\"totalcost\", \"string\", \"totalcost\", \"string\"),\n",
				"            (\"totalprofit\", \"string\", \"totalprofit\", \"string\")],\n",
				"                                           transformation_ctx=\"apply_mapping\")\n",
				"\n",
				"        final_frame = Join.apply(apply_mapping, country_lookup_frame, 'country', 'CountryName').drop_fields(\n",
				"            ['CountryName', 'country', 'unitprice', 'unitcost', 'totalrevenue', 'totalcost', 'total profit'])\n",
				"\n",
				"        s3sink = glueContext.write_dynamic_frame.from_options(frame=final_frame,\n",
				"                                                              connection_type=\"s3\",\n",
				"                                                              connection_options={\"path\": s3_target},\n",
				"                                                              format=\"csv\",\n",
				"                                                              transformation_ctx=\"s3sink\")\n"
			]
		},
		{
			"cell_type": "markdown",
			"metadata": {},
			"source": [
				"Now we will load some test data to test the batch function.\n",
				"\n",
				"`The batchID in the following test is just a random number we use for testing. During streaming job, it will be provided by Glue runtime.`\n"
			]
		},
		{
			"cell_type": "code",
			"execution_count": null,
			"metadata": {
				"trusted": true,
				"vscode": {
					"languageId": "python_glue_session"
				}
			},
			"outputs": [],
			"source": [
				"dynaFrame = glueContext.create_dynamic_frame.from_catalog(database=\"glueworkshop_cloudformation\", \n",
				"                                                          table_name=\"json-static-table\")\n",
				"processBatch(dynaFrame.toDF(), \"12\")\n"
			]
		},
		{
			"cell_type": "code",
			"execution_count": null,
			"metadata": {
				"vscode": {
					"languageId": "python_glue_session"
				}
			},
			"outputs": [],
			"source": []
		}
	],
	"metadata": {
		"kernelspec": {
			"display_name": "Glue PySpark",
			"language": "python",
			"name": "glue_pyspark"
		},
		"language_info": {
			"codemirror_mode": {
				"name": "python",
				"version": 3
			},
			"file_extension": ".py",
			"mimetype": "text/x-python",
			"name": "Python_Glue_Session",
			"pygments_lexer": "python3"
		},
		"toc-autonumbering": false,
		"toc-showcode": false,
		"toc-showmarkdowntxt": false
	},
	"nbformat": 4,
	"nbformat_minor": 4
}
